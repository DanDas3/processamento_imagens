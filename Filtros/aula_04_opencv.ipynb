{
  "nbformat": 4,
  "nbformat_minor": 0,
  "metadata": {
    "kernelspec": {
      "name": "python36",
      "display_name": "Python 3.6",
      "language": "python"
    },
    "language_info": {
      "mimetype": "text/x-python",
      "nbconvert_exporter": "python",
      "name": "python",
      "pygments_lexer": "ipython3",
      "version": "3.6.6",
      "file_extension": ".py",
      "codemirror_mode": {
        "version": 3,
        "name": "ipython"
      }
    },
    "colab": {
      "name": "aula_04_opencv.ipynb",
      "version": "0.3.2",
      "provenance": [],
      "collapsed_sections": [],
      "include_colab_link": true
    }
  },
  "cells": [
    {
      "cell_type": "markdown",
      "metadata": {
        "id": "view-in-github",
        "colab_type": "text"
      },
      "source": [
        "<a href=\"https://colab.research.google.com/github/valmirf/processamento_imagens/blob/master/Filtros/aula_04_opencv.ipynb\" target=\"_parent\"><img src=\"https://colab.research.google.com/assets/colab-badge.svg\" alt=\"Open In Colab\"/></a>"
      ]
    },
    {
      "cell_type": "markdown",
      "metadata": {
        "collapsed": true,
        "id": "lAQHzR3A7hBe",
        "colab_type": "text"
      },
      "source": [
        "# Opencv - Aula 4"
      ]
    },
    {
      "cell_type": "code",
      "metadata": {
        "id": "Z6uhIqqt8IBL",
        "colab_type": "code",
        "colab": {}
      },
      "source": [
        "!git clone https://github.com/valmirf/processamento_imagens.git"
      ],
      "execution_count": 0,
      "outputs": []
    },
    {
      "cell_type": "markdown",
      "metadata": {
        "id": "lMivHFOR7hBi",
        "colab_type": "text"
      },
      "source": [
        "Imports necessários"
      ]
    },
    {
      "cell_type": "code",
      "metadata": {
        "trusted": true,
        "id": "5oWIcKMq7hBk",
        "colab_type": "code",
        "colab": {}
      },
      "source": [
        "import cv2\n",
        "import numpy as np\n",
        "%matplotlib inline\n",
        "from matplotlib import pyplot as plt"
      ],
      "execution_count": 0,
      "outputs": []
    },
    {
      "cell_type": "markdown",
      "metadata": {
        "id": "5CK05HYS7hBs",
        "colab_type": "text"
      },
      "source": [
        "## 1. TRANSFORMADA DE FOURIER"
      ]
    },
    {
      "cell_type": "code",
      "metadata": {
        "trusted": true,
        "id": "VtHqfFSr7hBu",
        "colab_type": "code",
        "colab": {}
      },
      "source": [
        "img = cv2.imread('processamento_imagens/imagens/alonecat.jpg',0)\n",
        "\n",
        "rows, cols = img.shape\n",
        "crow,ccol = rows//2 , cols//2 #pega ponto central da imagem\n",
        "\n",
        "dft = cv2.dft(np.float32(img),flags = cv2.DFT_COMPLEX_OUTPUT) #transformada discreta de fourier\n",
        "dft_shift = np.fft.fftshift(dft) #mudança do ponto DC\n",
        "\n",
        "magnitude_spectrum = 20*np.log(cv2.magnitude(dft_shift[:,:,0],dft_shift[:,:,1])) #logarítimo para melhor visualização\n",
        "\n",
        "fig, axes = plt.subplots(1, 2, figsize=(10, 5))\n",
        "ax = axes.ravel()\n",
        "ax[0].imshow(img, cmap='gray')\n",
        "ax[0].set_title('Imagem Entrada')\n",
        "ax[0].set_axis_off()\n",
        "\n",
        "ax[1].imshow(magnitude_spectrum, cmap='gray')\n",
        "ax[1].set_title('Magnitude Spectrum')\n",
        "ax[1].set_axis_off()"
      ],
      "execution_count": 0,
      "outputs": []
    },
    {
      "cell_type": "markdown",
      "metadata": {
        "id": "KJ3OQJde7hB2",
        "colab_type": "text"
      },
      "source": [
        "### 1.1 TRANSFORMADA INVERSA"
      ]
    },
    {
      "cell_type": "code",
      "metadata": {
        "trusted": true,
        "id": "OvkOCEjq7hB4",
        "colab_type": "code",
        "colab": {}
      },
      "source": [
        "#retoma o ponto central para o canto da imagem\n",
        "f_ishift = np.fft.ifftshift(dft_shift)\n",
        "#transformada inversa\n",
        "img_back = cv2.idft(f_ishift)\n",
        "img_back = cv2.magnitude(img_back[:,:,0],img_back[:,:,1])\n",
        "\n",
        "fig, axes = plt.subplots(1, 2, figsize=(10, 5))\n",
        "ax = axes.ravel()\n",
        "ax[0].imshow(magnitude_spectrum, cmap='gray')\n",
        "ax[0].set_title('Magnitude Spectrum')\n",
        "ax[0].set_axis_off()\n",
        "\n",
        "\n",
        "ax[1].imshow(img_back, cmap='gray')\n",
        "ax[1].set_title('Imagem de Saída')\n",
        "ax[1].set_axis_off()\n"
      ],
      "execution_count": 0,
      "outputs": []
    },
    {
      "cell_type": "markdown",
      "metadata": {
        "id": "5mVkv5wh7hB_",
        "colab_type": "text"
      },
      "source": [
        "## 2. Filtragem no domínio da frequência"
      ]
    },
    {
      "cell_type": "markdown",
      "metadata": {
        "id": "a-GYHuV2gQb1",
        "colab_type": "text"
      },
      "source": [
        "###2.1 Filtro Simples (Passa-Baixa)\n"
      ]
    },
    {
      "cell_type": "code",
      "metadata": {
        "id": "6rGPVNi1gYEm",
        "colab_type": "code",
        "colab": {}
      },
      "source": [
        "# create a mask first, center square is 1, remaining all zeros\n",
        "mask = np.zeros((rows,cols,2))\n",
        "mask[crow-30:crow+30, ccol-30:ccol+30] = 1\n",
        "\n",
        "# apply mask and inverse DFT\n",
        "fshift = dft_shift*mask\n",
        "f_ishift = np.fft.ifftshift(fshift)\n",
        "img_back = cv2.idft(f_ishift)\n",
        "img_back = cv2.magnitude(img_back[:,:,0],img_back[:,:,1])\n",
        "\n",
        "fig, axes = plt.subplots(1, 3, figsize=(10, 5))\n",
        "ax = axes.ravel()\n",
        "ax[0].imshow(magnitude_spectrum, cmap='gray')\n",
        "ax[0].set_title('Magnitude Spectrum')\n",
        "ax[0].set_axis_off()\n",
        "\n",
        "ax[1].imshow(mask[:,:,0], cmap='gray')\n",
        "ax[1].set_title('Máscara')\n",
        "ax[1].set_axis_off()\n",
        "\n",
        "ax[2].imshow(img_back, cmap='gray')\n",
        "ax[2].set_title('Imagem de Saída')\n",
        "ax[2].set_axis_off()\n"
      ],
      "execution_count": 0,
      "outputs": []
    },
    {
      "cell_type": "markdown",
      "metadata": {
        "id": "CkJG_H0egqLC",
        "colab_type": "text"
      },
      "source": [
        "###2.2 Filtro Simples (Passa-Alta)"
      ]
    },
    {
      "cell_type": "code",
      "metadata": {
        "id": "3j9xsr4SgtBK",
        "colab_type": "code",
        "colab": {}
      },
      "source": [
        "#inverte o filtro\n",
        "mask = 1 - mask #filtro passa-alta\n",
        "\n",
        "# apply mask and inverse DFT\n",
        "fshift = dft_shift*mask\n",
        "f_ishift = np.fft.ifftshift(fshift)\n",
        "img_back = cv2.idft(f_ishift)\n",
        "img_back = cv2.magnitude(img_back[:,:,0],img_back[:,:,1])\n",
        "\n",
        "fig, axes = plt.subplots(1, 3, figsize=(10, 5))\n",
        "ax = axes.ravel()\n",
        "ax[0].imshow(magnitude_spectrum, cmap='gray')\n",
        "ax[0].set_title('Magnitude Spectrum')\n",
        "ax[0].set_axis_off()\n",
        "\n",
        "ax[1].imshow(mask[:,:,0], cmap='gray')\n",
        "ax[1].set_title('Máscara')\n",
        "ax[1].set_axis_off()\n",
        "\n",
        "ax[2].imshow(img_back, cmap='gray')\n",
        "ax[2].set_title('Imagem de Saída')\n",
        "ax[2].set_axis_off()\n"
      ],
      "execution_count": 0,
      "outputs": []
    },
    {
      "cell_type": "markdown",
      "metadata": {
        "id": "45TgTOSu7hCB",
        "colab_type": "text"
      },
      "source": [
        "### 2.1 Gaussiano (Passa-Baixa)"
      ]
    },
    {
      "cell_type": "code",
      "metadata": {
        "trusted": true,
        "id": "QGnZY-cN7hCD",
        "colab_type": "code",
        "colab": {}
      },
      "source": [
        "#imagem quadrada pra facilitar cálculos\n",
        "imgg = cv2.resize(img,(rows,rows)) \n",
        "print(imgg.shape)\n",
        "\n",
        "rows, cols = imgg.shape\n",
        "\n",
        "# inicializa a máscara\n",
        "mask = np.zeros((rows,rows,2))\n",
        "print(mask.shape)\n",
        "\n",
        "# cria o filtro gaussiano\n",
        "kernel = cv2.getGaussianKernel(rows,sigma=5)\n",
        "kernel = kernel * kernel.T\n",
        "\n",
        "mask[:,:,0] =kernel\n",
        "mask[:,:,1] =kernel\n",
        "\n",
        "#trasformada inversa\n",
        "dftg = cv2.dft(np.float32(imgg),flags = cv2.DFT_COMPLEX_OUTPUT) #transformada discreta de fourier\n",
        "dft_shiftg = np.fft.fftshift(dftg) #mudança do ponto DC\n",
        "\n",
        "magnitude_spectrumg = 20*np.log(cv2.magnitude(dft_shiftg[:,:,0],dft_shiftg[:,:,1])) #logarítimo para melhor visualização\n",
        "\n",
        "# aplica a filtragem gaussiana\n",
        "fshift = dft_shiftg*mask\n",
        "# transformada inversa\n",
        "f_ishift = np.fft.ifftshift(fshift)\n",
        "img_back = cv2.idft(f_ishift)\n",
        "img_back = cv2.magnitude(img_back[:,:,0],img_back[:,:,1])\n",
        "\n",
        "fig, axes = plt.subplots(1, 3, figsize=(10, 5))\n",
        "ax = axes.ravel()\n",
        "ax[0].imshow(magnitude_spectrumg, cmap='gray')\n",
        "ax[0].set_title('Magnitude Spectrum')\n",
        "ax[0].set_axis_off()\n",
        "\n",
        "ax[1].imshow(mask[:,:,0], cmap='gray')\n",
        "ax[1].set_title('Filtro')\n",
        "ax[1].set_axis_off()\n",
        "\n",
        "ax[2].imshow(img_back, cmap='gray')\n",
        "ax[2].set_title('Imagem de Saída')\n",
        "ax[2].set_axis_off()"
      ],
      "execution_count": 0,
      "outputs": []
    },
    {
      "cell_type": "markdown",
      "metadata": {
        "id": "vmcqwF0Uh8FH",
        "colab_type": "text"
      },
      "source": [
        "## Exercícios"
      ]
    },
    {
      "cell_type": "markdown",
      "metadata": {
        "id": "vltUMjq0izTu",
        "colab_type": "text"
      },
      "source": [
        "1. Construa um filtro passa-alta Gaussiano da imagem anterior"
      ]
    },
    {
      "cell_type": "code",
      "metadata": {
        "trusted": true,
        "id": "A_YnvEuf7hCQ",
        "colab_type": "code",
        "colab": {}
      },
      "source": [
        ""
      ],
      "execution_count": 0,
      "outputs": []
    },
    {
      "cell_type": "markdown",
      "metadata": {
        "id": "SK7xV8b5ijU4",
        "colab_type": "text"
      },
      "source": [
        "2. Construa a máscara do filtro butterwoth. Depois aplique o filtro passa-baixa e passa-alta desse filtro."
      ]
    },
    {
      "cell_type": "code",
      "metadata": {
        "id": "54NaduWtiI2X",
        "colab_type": "code",
        "colab": {}
      },
      "source": [
        ""
      ],
      "execution_count": 0,
      "outputs": []
    }
  ]
}